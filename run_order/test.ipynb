{
 "cells": [
  {
   "cell_type": "code",
   "execution_count": 2,
   "metadata": {},
   "outputs": [],
   "source": [
    "import json "
   ]
  },
  {
   "cell_type": "code",
   "execution_count": 9,
   "metadata": {},
   "outputs": [],
   "source": [
    "json_file = r'C:\\Users\\Administrator\\Documents\\code\\deep-for-binary-pred-forex\\trading_signals.json'\n",
    "json_file = open(json_file, 'r')"
   ]
  },
  {
   "cell_type": "code",
   "execution_count": 10,
   "metadata": {},
   "outputs": [
    {
     "name": "stdout",
     "output_type": "stream",
     "text": [
      "[{'EURUSD': 'NONE'}, {'GBPUSD': 'NONE'}]\n"
     ]
    }
   ],
   "source": [
    "json_data = json.load(json_file)\n",
    "json_file.close()\n",
    "\n",
    "print(json_data)\n",
    "\n"
   ]
  },
  {
   "cell_type": "code",
   "execution_count": 13,
   "metadata": {},
   "outputs": [
    {
     "name": "stdout",
     "output_type": "stream",
     "text": [
      "{'EURUSD': 'NONE'}\n",
      "{'GBPUSD': 'NONE'}\n"
     ]
    }
   ],
   "source": [
    "for key in json_data:\n",
    "    # action = json_data[key].upper()\n",
    "    refined_key = key\n",
    "    print(refined_key)"
   ]
  }
 ],
 "metadata": {
  "kernelspec": {
   "display_name": "Python 3",
   "language": "python",
   "name": "python3"
  },
  "language_info": {
   "codemirror_mode": {
    "name": "ipython",
    "version": 3
   },
   "file_extension": ".py",
   "mimetype": "text/x-python",
   "name": "python",
   "nbconvert_exporter": "python",
   "pygments_lexer": "ipython3",
   "version": "3.12.6"
  }
 },
 "nbformat": 4,
 "nbformat_minor": 2
}
